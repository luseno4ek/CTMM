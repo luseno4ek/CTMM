{
 "cells": [
  {
   "cell_type": "markdown",
   "metadata": {},
   "source": [
    "## П1. Краевая задача в круге"
   ]
  },
  {
   "cell_type": "markdown",
   "metadata": {},
   "source": [
    "1. Написать функцию, которая решает краевую задачу в круге радиуса $R$: \n",
    "\n",
    "$$\n",
    "\\begin{cases}\n",
    "- \\Delta u + {\\alpha}u &= f(x,y),\\quad  0 < x^2 + y^2 < R\n",
    "\\\\\n",
    "u\\bigg|_{x^2 + y^2 = R,\\; x < 0} &= h(x,y), \n",
    "\\\\\n",
    "\\frac{du}{dn}\\bigg|_{x^2 + y^2 = R,\\; x > 0} &= g(x,y), \n",
    "\\end{cases}\n",
    "$$"
   ]
  },
  {
   "cell_type": "markdown",
   "metadata": {},
   "source": [
    "2. Для решения при помощи пакета `dolfinx` необходимо привести задачу к вариационной постановке следующего вида. Необходимо найти $u \\in V$ такую, что \n",
    "$$\n",
    "a(u, v) = L(v), \\; \\forall v \\in V,\n",
    "$$\n",
    "где $V = H^1(\\Omega)$ - функциональное пространство, а \n",
    "$$\n",
    "\\begin{align*}\n",
    "a(u,v) &:= \\int_\\Omega \\nabla u \\nabla v \\,dx + \\alpha \\int_\\Omega u v \\,dx\n",
    "\\\\\n",
    "L(v) &:= \\int_\\Omega f v \\,dx + \\int_{d \\Omega} g  v \\,ds.\n",
    "\\end{align*}\n",
    "$$\n",
    "Здесь \n",
    "$$\n",
    "\\Omega = \\{(x,y): 0 < x^2 + y^2 < R \\} \\;\\text{(круг радиуса $R$)},\n",
    "$$\n",
    "$$\n",
    "d\\Omega = \\{(x,y):  x^2 + y^2 = R, \\; x > 0 \\} \\; \\text{(\"правая\" граница круга)}\n",
    "$$"
   ]
  },
  {
   "cell_type": "code",
   "execution_count": 1,
   "metadata": {},
   "outputs": [],
   "source": [
    "import importlib.util\n",
    "\n",
    "if importlib.util.find_spec(\"petsc4py\") is not None:\n",
    "    import dolfinx\n",
    "\n",
    "from mpi4py import MPI\n",
    "import numpy as np\n",
    "\n",
    "import ufl\n",
    "from dolfinx import fem, io, mesh, plot\n",
    "from dolfinx.fem.petsc import LinearProblem\n",
    "from ufl import ds, dx, grad, inner\n",
    "\n",
    "import gmsh\n",
    "gmsh.initialize()\n",
    "\n",
    "import pyvista\n",
    "from dolfinx.plot import vtk_mesh\n",
    "pyvista.start_xvfb()"
   ]
  },
  {
   "cell_type": "markdown",
   "metadata": {},
   "source": [
    "3. Выбор конкретных конечно-элементных пространств $V$  в FEniCS:"
   ]
  },
  {
   "cell_type": "markdown",
   "metadata": {},
   "source": [
    "3.1 Задание расчетной области (сетки)"
   ]
  },
  {
   "cell_type": "code",
   "execution_count": 29,
   "metadata": {},
   "outputs": [],
   "source": [
    "# Константы \n",
    "\n",
    "R = 1\n",
    "alpha = 100"
   ]
  },
  {
   "cell_type": "code",
   "execution_count": 3,
   "metadata": {},
   "outputs": [
    {
     "name": "stdout",
     "output_type": "stream",
     "text": [
      "Info    : Meshing 1D...\n",
      "Info    : Meshing curve 1 (Ellipse)\n",
      "Info    : Done meshing 1D (Wall 0.000191671s, CPU 0.000129s)\n",
      "Info    : Meshing 2D...\n",
      "Info    : Meshing surface 1 (Plane, Frontal-Delaunay)\n",
      "Info    : Done meshing 2D (Wall 0.0410288s, CPU 0.040927s)\n",
      "Info    : 1550 nodes 3099 elements\n"
     ]
    }
   ],
   "source": [
    "# Круг радиуса R с центром в начале координат\n",
    "circle = gmsh.model.occ.addDisk(0, 0, 0, R, R)\n",
    "\n",
    "gmsh.model.occ.synchronize()\n",
    "gdim = 2\n",
    "gmsh.model.addPhysicalGroup(gdim, [circle], 1)\n",
    "gmsh.option.setNumber('Mesh.CharacteristicLengthMin', 0.05)\n",
    "gmsh.option.setNumber('Mesh.CharacteristicLengthMax', 0.05)\n",
    "gmsh.model.mesh.generate(gdim)\n",
    "\n",
    "# Сетка\n",
    "mesh, _, _ = io.gmshio.model_to_mesh(gmsh.model, MPI.COMM_WORLD, 0, gdim=gdim)\n",
    "# Координаты сетки\n",
    "x = ufl.SpatialCoordinate(mesh)"
   ]
  },
  {
   "cell_type": "markdown",
   "metadata": {},
   "source": [
    "3.2 Задание типа функциональных пространств (степень и тип)"
   ]
  },
  {
   "cell_type": "code",
   "execution_count": 4,
   "metadata": {},
   "outputs": [],
   "source": [
    "V = fem.functionspace(mesh, ('Lagrange', 1))\n",
    "\n",
    "left_boundary = fem.locate_dofs_geometrical(\n",
    "    V, lambda x: x[0] < 0 & np.isclose(np.sqrt(x[0]**2 + x[1]**2), R))"
   ]
  },
  {
   "cell_type": "markdown",
   "metadata": {},
   "source": [
    "4. Решить задачу, визуализировать решение, посчитать погрешность в узлах сетки."
   ]
  },
  {
   "cell_type": "markdown",
   "metadata": {},
   "source": [
    "4.1 Выбор тестовых функций\n",
    "\n",
    "Выберем следующие тестовые функции. В первую очередь выбирается $h(x,y)$. Например, как \n",
    "\n",
    "$$\n",
    "h(x,y) = \\sin(x) * \\cos(y).\n",
    "$$\n",
    "\n",
    "Если $h(x,y)$ является точным решением $u(x,y)$ поставленной задачи, то $g(x,y)$ и $f(x,y)$ вычисляются следующим способом:\n",
    "\n",
    "$$\n",
    "\\begin{align*}\n",
    "f & =-\\Delta u + {\\alpha}u = -\\Delta h + \\alpha h,\\\\ \n",
    "g & ={du \\over dn} = {dh \\over dn}.\n",
    "\\end{align*}\n",
    "$$\n",
    "\n",
    "Итого имеем:\n",
    "$$\n",
    "\\begin{align*}\n",
    "h(x,y) &= \\sin(x) * \\cos(y), \\\\ \n",
    "f(x,y) & = 2 * \\cos(y) * \\sin(x) + \\alpha * \\sin(x) * \\cos(y), \\\\\n",
    "g(x,y) & =  \\cos(x) * \\cos(y) - \\sin(x) * \\sin(y).\n",
    "\\end{align*}\n",
    "$$\n"
   ]
  },
  {
   "cell_type": "code",
   "execution_count": 13,
   "metadata": {},
   "outputs": [],
   "source": [
    "# x[0] ~ x, x[1] ~ y\n",
    "\n",
    "h = ufl.sin(x[0]) * ufl.cos(x[1])\n",
    "f = 2 * ufl.cos(x[1]) * ufl.sin(x[0]) + alpha * ufl.sin(x[0]) * ufl.cos(x[1])\n",
    "g = ufl.cos(x[0]) * ufl.cos(x[1]) - ufl.sin(x[0]) * ufl.sin(x[1])"
   ]
  },
  {
   "cell_type": "markdown",
   "metadata": {},
   "source": [
    "4.2 Решение задачи"
   ]
  },
  {
   "cell_type": "code",
   "execution_count": 14,
   "metadata": {},
   "outputs": [],
   "source": [
    "# Задаем граничное условие Дирихле u = h(x,y) на \"левой\" границе круга\n",
    "u_lbc = fem.Function(V)\n",
    "u_lbc.interpolate(fem.Expression(h, V.element.interpolation_points()))\n",
    "lbc = fem.dirichletbc(u_lbc, left_boundary)"
   ]
  },
  {
   "cell_type": "code",
   "execution_count": 15,
   "metadata": {},
   "outputs": [],
   "source": [
    "# Задаем дискретную вариационную задачу\n",
    "u = ufl.TrialFunction(V)\n",
    "v = ufl.TestFunction(V)\n",
    "a = ufl.dot(ufl.grad(u), ufl.grad(v)) * ufl.dx + alpha * ufl.dot(u, v) * ufl.dx\n",
    "L = f * v * ufl.dx + g * v * ufl.ds\n",
    "problem = LinearProblem(a, L, bcs=[lbc], petsc_options={\"ksp_type\": \"preonly\", \"pc_type\": \"lu\"})"
   ]
  },
  {
   "cell_type": "code",
   "execution_count": 16,
   "metadata": {},
   "outputs": [],
   "source": [
    "# Получаем численное решение\n",
    "uh = problem.solve()"
   ]
  },
  {
   "cell_type": "markdown",
   "metadata": {},
   "source": [
    "4.3 Визуализация численного решения"
   ]
  },
  {
   "cell_type": "code",
   "execution_count": 17,
   "metadata": {},
   "outputs": [
    {
     "data": {
      "application/vnd.jupyter.widget-view+json": {
       "model_id": "db9ea087de994df6a95ad9dcea376e91",
       "version_major": 2,
       "version_minor": 0
      },
      "text/plain": [
       "Widget(value='<iframe id=\"pyvista-jupyter_trame__template_P_0x71e196328c70_2\" src=\"http://95.131.149.198:1489/…"
      ]
     },
     "metadata": {},
     "output_type": "display_data"
    }
   ],
   "source": [
    "pyvista.set_jupyter_backend('client')\n",
    "\n",
    "pyvista_cells, cell_types, geometry = vtk_mesh(V)\n",
    "grid = pyvista.UnstructuredGrid(pyvista_cells, cell_types, geometry)\n",
    "grid.point_data['u'] = uh.x.array\n",
    "grid.set_active_scalars('u')\n",
    "\n",
    "plotter = pyvista.Plotter()\n",
    "plotter.add_text('uh', position='upper_edge', font_size=14, color='black')\n",
    "plotter.add_mesh(grid, show_edges=True)\n",
    "plotter.view_xy()\n",
    "\n",
    "plotter.show()"
   ]
  },
  {
   "cell_type": "markdown",
   "metadata": {},
   "source": [
    "4.4 Получаем точное решение $u(x,y)$ как интерполяцию $h(x,y)$ на сетке"
   ]
  },
  {
   "cell_type": "code",
   "execution_count": 18,
   "metadata": {
    "tags": []
   },
   "outputs": [],
   "source": [
    "u_sol = fem.Function(V)\n",
    "u_sol.interpolate(fem.Expression(h, V.element.interpolation_points()))"
   ]
  },
  {
   "cell_type": "code",
   "execution_count": 19,
   "metadata": {},
   "outputs": [
    {
     "data": {
      "application/vnd.jupyter.widget-view+json": {
       "model_id": "0cf9e1e6766d4a2d92edcdf1eabaf7c7",
       "version_major": 2,
       "version_minor": 0
      },
      "text/plain": [
       "Widget(value='<iframe id=\"pyvista-jupyter_trame__template_P_0x71e196328760_3\" src=\"http://95.131.149.198:1489/…"
      ]
     },
     "metadata": {},
     "output_type": "display_data"
    }
   ],
   "source": [
    "pyvista.set_jupyter_backend('client')\n",
    "\n",
    "pyvista_cells, cell_types, geometry = vtk_mesh(V)\n",
    "grid = pyvista.UnstructuredGrid(pyvista_cells, cell_types, geometry)\n",
    "grid.point_data['u'] = u_sol.x.array\n",
    "grid.set_active_scalars('u')\n",
    "\n",
    "plotter = pyvista.Plotter()\n",
    "plotter.add_text('u', position='upper_edge', font_size=14, color='black')\n",
    "plotter.add_mesh(grid, show_edges=True)\n",
    "plotter.view_xy()\n",
    "\n",
    "plotter.show()"
   ]
  },
  {
   "cell_type": "markdown",
   "metadata": {},
   "source": [
    "4.5 Вычисляем погрешности"
   ]
  },
  {
   "cell_type": "code",
   "execution_count": 20,
   "metadata": {},
   "outputs": [
    {
     "name": "stdout",
     "output_type": "stream",
     "text": [
      "Отклонение численного решения от точного по максимум-норме:  0.09962952782504031\n",
      "Отклонение численного решения от точного по L2-норме:  0.020969557529437733\n"
     ]
    }
   ],
   "source": [
    "# Ошибка по норме L2\n",
    "error_L2 = fem.assemble_scalar(fem.form((uh - u_sol)**2 * ufl.dx))\n",
    "error_L2 = np.sqrt(MPI.COMM_WORLD.allreduce(error_L2, op=MPI.SUM))\n",
    "\n",
    "# Ошибка по максимум-норме\n",
    "u_vertex_values = uh.x.array\n",
    "u_sol_vertex_values = u_sol.x.array\n",
    "error_max = np.max(np.abs(u_vertex_values - u_sol_vertex_values))\n",
    "error_max = MPI.COMM_WORLD.allreduce(error_max, op=MPI.MAX)\n",
    "\n",
    "print ('Отклонение численного решения от точного по максимум-норме: ', error_max)\n",
    "print ('Отклонение численного решения от точного по L2-норме: ', error_L2)"
   ]
  },
  {
   "cell_type": "markdown",
   "metadata": {},
   "source": [
    "5. Другие тестовые функции $h(x,y)$"
   ]
  },
  {
   "cell_type": "markdown",
   "metadata": {},
   "source": [
    "$$\n",
    "\\begin{align*}\n",
    "h(x,y) &= e^{x^2 + y^2}, \\\\ \n",
    "f(x,y) & = -4 e^{x^2 + y^2} * (1 + x^2 + y^2) + \\alpha * e^{x^2 + y^2}, \\\\\n",
    "g(x,y) & =  2* x* e^{x^2 + y^2} + 2 * y * e^{x^2 + y^2}\n",
    "\\end{align*}\n",
    "$$\n"
   ]
  },
  {
   "cell_type": "code",
   "execution_count": 30,
   "metadata": {},
   "outputs": [
    {
     "data": {
      "application/vnd.jupyter.widget-view+json": {
       "model_id": "4f89857a71134a63ab8bad634fd9d829",
       "version_major": 2,
       "version_minor": 0
      },
      "text/plain": [
       "Widget(value='<iframe id=\"pyvista-jupyter_trame__template_P_0x71e196328280_8\" src=\"http://95.131.149.198:1489/…"
      ]
     },
     "metadata": {},
     "output_type": "display_data"
    }
   ],
   "source": [
    "# x[0] ~ x, x[1] ~ y\n",
    "\n",
    "h = ufl.exp(x[0] ** 2 + x[1] ** 2)\n",
    "f = - 4 * ufl.exp(x[0] ** 2 + x[1] ** 2) * (1 + x[0]**2 + x[1]**2) + alpha * ufl.exp(x[0] ** 2 + x[1] ** 2)\n",
    "g = 2 * x[0] * ufl.exp(x[0] ** 2 + x[1] ** 2) + 2 * x[1] * ufl.exp(x[0] ** 2 + x[1] ** 2)\n",
    "\n",
    "# Задаем граничное условие Дирихле u = h(x,y) на \"левой\" границе круга\n",
    "u_lbc = fem.Function(V)\n",
    "u_lbc.interpolate(fem.Expression(h, V.element.interpolation_points()))\n",
    "lbc = fem.dirichletbc(u_lbc, left_boundary)\n",
    "\n",
    "# Задаем дискретную вариационную задачу\n",
    "u = ufl.TrialFunction(V)\n",
    "v = ufl.TestFunction(V)\n",
    "a = ufl.dot(ufl.grad(u), ufl.grad(v)) * ufl.dx + alpha * ufl.dot(u, v) * ufl.dx\n",
    "L = f * v * ufl.dx + g * v * ufl.ds\n",
    "problem = LinearProblem(a, L, bcs=[lbc], petsc_options={\"ksp_type\": \"preonly\", \"pc_type\": \"lu\"})\n",
    "\n",
    "# Получаем численное решение\n",
    "uh = problem.solve()\n",
    "\n",
    "pyvista.set_jupyter_backend('client')\n",
    "\n",
    "pyvista_cells, cell_types, geometry = vtk_mesh(V)\n",
    "grid = pyvista.UnstructuredGrid(pyvista_cells, cell_types, geometry)\n",
    "grid.point_data['u'] = uh.x.array\n",
    "grid.set_active_scalars('u')\n",
    "\n",
    "plotter = pyvista.Plotter()\n",
    "plotter.add_text('uh', position='upper_edge', font_size=14, color='black')\n",
    "plotter.add_mesh(grid, show_edges=True)\n",
    "plotter.view_xy()\n",
    "\n",
    "plotter.show()"
   ]
  },
  {
   "cell_type": "code",
   "execution_count": 31,
   "metadata": {},
   "outputs": [
    {
     "data": {
      "application/vnd.jupyter.widget-view+json": {
       "model_id": "e7245229d5f74510b0b2159bf3626c53",
       "version_major": 2,
       "version_minor": 0
      },
      "text/plain": [
       "Widget(value='<iframe id=\"pyvista-jupyter_trame__template_P_0x71e195c0e7a0_9\" src=\"http://95.131.149.198:1489/…"
      ]
     },
     "metadata": {},
     "output_type": "display_data"
    }
   ],
   "source": [
    "u_sol = fem.Function(V)\n",
    "u_sol.interpolate(fem.Expression(h, V.element.interpolation_points()))\n",
    "\n",
    "pyvista.set_jupyter_backend('client')\n",
    "\n",
    "pyvista_cells, cell_types, geometry = vtk_mesh(V)\n",
    "grid = pyvista.UnstructuredGrid(pyvista_cells, cell_types, geometry)\n",
    "grid.point_data['u'] = u_sol.x.array\n",
    "grid.set_active_scalars('u')\n",
    "\n",
    "plotter = pyvista.Plotter()\n",
    "plotter.add_text('u', position='upper_edge', font_size=14, color='black')\n",
    "plotter.add_mesh(grid, show_edges=True)\n",
    "plotter.view_xy()\n",
    "\n",
    "plotter.show()"
   ]
  },
  {
   "cell_type": "code",
   "execution_count": 32,
   "metadata": {},
   "outputs": [
    {
     "name": "stdout",
     "output_type": "stream",
     "text": [
      "Отклонение численного решения от точного по максимум-норме:  0.9415374703775696\n",
      "Отклонение численного решения от точного по L2-норме:  0.17294199122130177\n"
     ]
    }
   ],
   "source": [
    "# Ошибка по норме L2\n",
    "error_L2 = fem.assemble_scalar(fem.form((uh - u_sol)**2 * ufl.dx))\n",
    "error_L2 = np.sqrt(MPI.COMM_WORLD.allreduce(error_L2, op=MPI.SUM))\n",
    "\n",
    "# Ошибка по максимум-норме\n",
    "u_vertex_values = uh.x.array\n",
    "u_sol_vertex_values = u_sol.x.array\n",
    "error_max = np.max(np.abs(u_vertex_values - u_sol_vertex_values))\n",
    "error_max = MPI.COMM_WORLD.allreduce(error_max, op=MPI.MAX)\n",
    "\n",
    "print ('Отклонение численного решения от точного по максимум-норме: ', error_max)\n",
    "print ('Отклонение численного решения от точного по L2-норме: ', error_L2)"
   ]
  },
  {
   "cell_type": "markdown",
   "metadata": {},
   "source": [
    "$$\n",
    "\\begin{align*}\n",
    "h(x,y) &= x^2 + y, \\\\ \n",
    "f(x,y) & = -2 + \\alpha * x^2 + y, \\\\\n",
    "g(x,y) & =  2* x* y + x ^ 2\n",
    "\\end{align*}\n",
    "$$\n"
   ]
  },
  {
   "cell_type": "code",
   "execution_count": 42,
   "metadata": {},
   "outputs": [
    {
     "data": {
      "application/vnd.jupyter.widget-view+json": {
       "model_id": "4a3bf0264fc142fea852339f6657fa31",
       "version_major": 2,
       "version_minor": 0
      },
      "text/plain": [
       "Widget(value='<iframe id=\"pyvista-jupyter_trame__template_P_0x71e193ed6d70_17\" src=\"http://95.131.149.198:1489…"
      ]
     },
     "metadata": {},
     "output_type": "display_data"
    }
   ],
   "source": [
    "# x[0] ~ x, x[1] ~ y\n",
    "\n",
    "h = x[0]**2 + x[1]\n",
    "f = -2 + alpha * x[0]**2 + x[1]\n",
    "g = 2 * x[0] * x[1] + x[0] ** 2\n",
    "\n",
    "# Задаем граничное условие Дирихле u = h(x,y) на \"левой\" границе круга\n",
    "u_lbc = fem.Function(V)\n",
    "u_lbc.interpolate(fem.Expression(h, V.element.interpolation_points()))\n",
    "lbc = fem.dirichletbc(u_lbc, left_boundary)\n",
    "\n",
    "# Задаем дискретную вариационную задачу\n",
    "u = ufl.TrialFunction(V)\n",
    "v = ufl.TestFunction(V)\n",
    "a = ufl.dot(ufl.grad(u), ufl.grad(v)) * ufl.dx + alpha * ufl.dot(u, v) * ufl.dx\n",
    "L = f * v * ufl.dx + g * v * ufl.ds\n",
    "problem = LinearProblem(a, L, bcs=[lbc], petsc_options={\"ksp_type\": \"preonly\", \"pc_type\": \"lu\"})\n",
    "\n",
    "# Получаем численное решение\n",
    "uh = problem.solve()\n",
    "\n",
    "pyvista_cells, cell_types, geometry = vtk_mesh(V)\n",
    "grid = pyvista.UnstructuredGrid(pyvista_cells, cell_types, geometry)\n",
    "grid.point_data['u'] = uh.x.array\n",
    "grid.set_active_scalars('u')\n",
    "\n",
    "plotter = pyvista.Plotter()\n",
    "plotter.add_text('uh', position='upper_edge', font_size=14, color='black')\n",
    "plotter.add_mesh(grid, show_edges=True)\n",
    "plotter.view_xy()\n",
    "\n",
    "plotter.show()"
   ]
  },
  {
   "cell_type": "code",
   "execution_count": 43,
   "metadata": {},
   "outputs": [
    {
     "data": {
      "application/vnd.jupyter.widget-view+json": {
       "model_id": "30f19a588bf84ca78668b174fcd8a24f",
       "version_major": 2,
       "version_minor": 0
      },
      "text/plain": [
       "Widget(value='<iframe id=\"pyvista-jupyter_trame__template_P_0x71e193fbfdf0_18\" src=\"http://95.131.149.198:1489…"
      ]
     },
     "metadata": {},
     "output_type": "display_data"
    }
   ],
   "source": [
    "u_sol = fem.Function(V)\n",
    "u_sol.interpolate(fem.Expression(h, V.element.interpolation_points()))\n",
    "\n",
    "pyvista.set_jupyter_backend('client')\n",
    "\n",
    "pyvista_cells, cell_types, geometry = vtk_mesh(V)\n",
    "grid = pyvista.UnstructuredGrid(pyvista_cells, cell_types, geometry)\n",
    "grid.point_data['u'] = u_sol.x.array\n",
    "grid.set_active_scalars('u')\n",
    "\n",
    "plotter = pyvista.Plotter()\n",
    "plotter.add_text('u', position='upper_edge', font_size=14, color='black')\n",
    "plotter.add_mesh(grid, show_edges=True)\n",
    "plotter.view_xy()\n",
    "\n",
    "plotter.show()"
   ]
  },
  {
   "cell_type": "code",
   "execution_count": 44,
   "metadata": {},
   "outputs": [
    {
     "name": "stdout",
     "output_type": "stream",
     "text": [
      "Отклонение численного решения от точного по максимум-норме:  0.8497513529514247\n",
      "Отклонение численного решения от точного по L2-норме:  0.5280650175349745\n"
     ]
    }
   ],
   "source": [
    "# Ошибка по норме L2\n",
    "error_L2 = fem.assemble_scalar(fem.form((uh - u_sol)**2 * ufl.dx))\n",
    "error_L2 = np.sqrt(MPI.COMM_WORLD.allreduce(error_L2, op=MPI.SUM))\n",
    "\n",
    "# Ошибка по максимум-норме\n",
    "u_vertex_values = uh.x.array\n",
    "u_sol_vertex_values = u_sol.x.array\n",
    "error_max = np.max(np.abs(u_vertex_values - u_sol_vertex_values))\n",
    "error_max = MPI.COMM_WORLD.allreduce(error_max, op=MPI.MAX)\n",
    "\n",
    "print ('Отклонение численного решения от точного по максимум-норме: ', error_max)\n",
    "print ('Отклонение численного решения от точного по L2-норме: ', error_L2)"
   ]
  },
  {
   "cell_type": "markdown",
   "metadata": {},
   "source": [
    "Проверка на адекватность\n",
    "\n",
    "$$\n",
    "\\begin{align*}\n",
    "h(x,y) &= x, \\\\ \n",
    "f(x,y) & =  \\alpha * x, \\\\\n",
    "g(x,y) & =  1\n",
    "\\end{align*}\n",
    "$$\n"
   ]
  },
  {
   "cell_type": "code",
   "execution_count": 45,
   "metadata": {},
   "outputs": [
    {
     "data": {
      "application/vnd.jupyter.widget-view+json": {
       "model_id": "dded484e989a4e1abcbbe768d792771b",
       "version_major": 2,
       "version_minor": 0
      },
      "text/plain": [
       "Widget(value='<iframe id=\"pyvista-jupyter_trame__template_P_0x71e193e5efe0_19\" src=\"http://95.131.149.198:1489…"
      ]
     },
     "metadata": {},
     "output_type": "display_data"
    }
   ],
   "source": [
    "# x[0] ~ x, x[1] ~ y\n",
    "\n",
    "h = x[0]\n",
    "f = alpha * x[0]\n",
    "g = 1\n",
    "\n",
    "# Задаем граничное условие Дирихле u = h(x,y) на \"левой\" границе круга\n",
    "u_lbc = fem.Function(V)\n",
    "u_lbc.interpolate(fem.Expression(h, V.element.interpolation_points()))\n",
    "lbc = fem.dirichletbc(u_lbc, left_boundary)\n",
    "\n",
    "# Задаем дискретную вариационную задачу\n",
    "u = ufl.TrialFunction(V)\n",
    "v = ufl.TestFunction(V)\n",
    "a = ufl.dot(ufl.grad(u), ufl.grad(v)) * ufl.dx + alpha * ufl.dot(u, v) * ufl.dx\n",
    "L = f * v * ufl.dx + g * v * ufl.ds\n",
    "problem = LinearProblem(a, L, bcs=[lbc], petsc_options={\"ksp_type\": \"preonly\", \"pc_type\": \"lu\"})\n",
    "\n",
    "# Получаем численное решение\n",
    "uh = problem.solve()\n",
    "\n",
    "pyvista_cells, cell_types, geometry = vtk_mesh(V)\n",
    "grid = pyvista.UnstructuredGrid(pyvista_cells, cell_types, geometry)\n",
    "grid.point_data['u'] = uh.x.array\n",
    "grid.set_active_scalars('u')\n",
    "\n",
    "plotter = pyvista.Plotter()\n",
    "plotter.add_text('uh', position='upper_edge', font_size=14, color='black')\n",
    "plotter.add_mesh(grid, show_edges=True)\n",
    "plotter.view_xy()\n",
    "\n",
    "plotter.show()"
   ]
  },
  {
   "cell_type": "code",
   "execution_count": 46,
   "metadata": {},
   "outputs": [
    {
     "data": {
      "application/vnd.jupyter.widget-view+json": {
       "model_id": "bac6af8b555e4be49e8928e821473464",
       "version_major": 2,
       "version_minor": 0
      },
      "text/plain": [
       "Widget(value='<iframe id=\"pyvista-jupyter_trame__template_P_0x71e193e30e80_20\" src=\"http://95.131.149.198:1489…"
      ]
     },
     "metadata": {},
     "output_type": "display_data"
    }
   ],
   "source": [
    "u_sol = fem.Function(V)\n",
    "u_sol.interpolate(fem.Expression(h, V.element.interpolation_points()))\n",
    "\n",
    "pyvista.set_jupyter_backend('client')\n",
    "\n",
    "pyvista_cells, cell_types, geometry = vtk_mesh(V)\n",
    "grid = pyvista.UnstructuredGrid(pyvista_cells, cell_types, geometry)\n",
    "grid.point_data['u'] = u_sol.x.array\n",
    "grid.set_active_scalars('u')\n",
    "\n",
    "plotter = pyvista.Plotter()\n",
    "plotter.add_text('u', position='upper_edge', font_size=14, color='black')\n",
    "plotter.add_mesh(grid, show_edges=True)\n",
    "plotter.view_xy()\n",
    "\n",
    "plotter.show()"
   ]
  },
  {
   "cell_type": "code",
   "execution_count": 47,
   "metadata": {},
   "outputs": [
    {
     "name": "stdout",
     "output_type": "stream",
     "text": [
      "Отклонение численного решения от точного по максимум-норме:  0.07813769208861635\n",
      "Отклонение численного решения от точного по L2-норме:  0.016696281171242\n"
     ]
    }
   ],
   "source": [
    "# Ошибка по норме L2\n",
    "error_L2 = fem.assemble_scalar(fem.form((uh - u_sol)**2 * ufl.dx))\n",
    "error_L2 = np.sqrt(MPI.COMM_WORLD.allreduce(error_L2, op=MPI.SUM))\n",
    "\n",
    "# Ошибка по максимум-норме\n",
    "u_vertex_values = uh.x.array\n",
    "u_sol_vertex_values = u_sol.x.array\n",
    "error_max = np.max(np.abs(u_vertex_values - u_sol_vertex_values))\n",
    "error_max = MPI.COMM_WORLD.allreduce(error_max, op=MPI.MAX)\n",
    "\n",
    "print ('Отклонение численного решения от точного по максимум-норме: ', error_max)\n",
    "print ('Отклонение численного решения от точного по L2-норме: ', error_L2)"
   ]
  }
 ],
 "metadata": {
  "kernelspec": {
   "display_name": "Python 3 (ipykernel)",
   "language": "python",
   "name": "python3"
  },
  "language_info": {
   "codemirror_mode": {
    "name": "ipython",
    "version": 3
   },
   "file_extension": ".py",
   "mimetype": "text/x-python",
   "name": "python",
   "nbconvert_exporter": "python",
   "pygments_lexer": "ipython3",
   "version": "3.10.13"
  }
 },
 "nbformat": 4,
 "nbformat_minor": 4
}
