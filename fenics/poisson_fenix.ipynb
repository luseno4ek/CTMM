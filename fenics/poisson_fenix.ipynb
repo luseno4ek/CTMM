{
 "cells": [
  {
   "cell_type": "markdown",
   "metadata": {},
   "source": [
    "## П1. Краевая задача в круге"
   ]
  },
  {
   "cell_type": "markdown",
   "metadata": {},
   "source": [
    "1. Написать функцию, которая решает краевую задачу в круге радиуса $R$: \n",
    "\n",
    "$$\n",
    "\\begin{cases}\n",
    "- \\Delta u + {\\alpha}u &= f(x,y),\\quad  0 < x^2 + y^2 < R\n",
    "\\\\\n",
    "u\\bigg|_{x^2 + y^2 = R,\\; x < 0} &= h(x,y), \n",
    "\\\\\n",
    "\\frac{du}{dn}\\bigg|_{x^2 + y^2 = R,\\; x > 0} &= g(x,y), \n",
    "\\end{cases}\n",
    "$$"
   ]
  },
  {
   "cell_type": "markdown",
   "metadata": {},
   "source": [
    "2. Для решения при помощи пакета `dolfinx` необходимо привести задачу к вариационной постановке следующего вида. Необходимо найти $u \\in V$ такую, что \n",
    "$$\n",
    "a(u, v) = L(v), \\; \\forall v \\in V,\n",
    "$$\n",
    "где $V = H^1(\\Omega)$ - функциональное пространство, а \n",
    "$$\n",
    "\\begin{align*}\n",
    "a(u,v) &:= \\int_\\Omega \\nabla u \\nabla v \\,dx + \\alpha \\int_\\Omega u v \\,dx\n",
    "\\\\\n",
    "L(v) &:= \\int_\\Omega f v \\,dx + \\int_{d \\Omega} g  v \\,ds.\n",
    "\\end{align*}\n",
    "$$\n",
    "Здесь \n",
    "$$\n",
    "\\Omega = \\{(x,y): 0 < x^2 + y^2 < R \\} \\;\\text{(круг радиуса $R$)},\n",
    "$$\n",
    "$$\n",
    "d\\Omega = \\{(x,y):  x^2 + y^2 = R, \\; x > 0 \\} \\; \\text{(\"правая\" граница круга)}\n",
    "$$"
   ]
  },
  {
   "cell_type": "code",
   "execution_count": 1,
   "metadata": {},
   "outputs": [],
   "source": [
    "import importlib.util\n",
    "\n",
    "if importlib.util.find_spec(\"petsc4py\") is not None:\n",
    "    import dolfinx\n",
    "\n",
    "from mpi4py import MPI\n",
    "import numpy as np\n",
    "\n",
    "import ufl\n",
    "from dolfinx import fem, io, mesh, plot\n",
    "from dolfinx.fem.petsc import LinearProblem\n",
    "from ufl import ds, dx, grad, inner\n",
    "\n",
    "import gmsh\n",
    "gmsh.initialize()\n",
    "\n",
    "import pyvista\n",
    "from dolfinx.plot import vtk_mesh\n",
    "pyvista.start_xvfb()"
   ]
  },
  {
   "cell_type": "markdown",
   "metadata": {},
   "source": [
    "3. Выбор конкретных конечно-элементных пространств $V$  в FEniCS:"
   ]
  },
  {
   "cell_type": "markdown",
   "metadata": {},
   "source": [
    "3.1 Задание расчетной области (сетки)"
   ]
  },
  {
   "cell_type": "code",
   "execution_count": 2,
   "metadata": {},
   "outputs": [],
   "source": [
    "# Константы \n",
    "\n",
    "R = 1\n",
    "alpha = 1"
   ]
  },
  {
   "cell_type": "code",
   "execution_count": 3,
   "metadata": {},
   "outputs": [
    {
     "name": "stdout",
     "output_type": "stream",
     "text": [
      "Info    : Meshing 1D...\n",
      "Info    : Meshing curve 1 (Ellipse)\n",
      "Info    : Done meshing 1D (Wall 0.00014736s, CPU 0.000208s)\n",
      "Info    : Meshing 2D...\n",
      "Info    : Meshing surface 1 (Plane, Frontal-Delaunay)\n",
      "Info    : Done meshing 2D (Wall 0.0568682s, CPU 0.057154s)\n",
      "Info    : 1550 nodes 3099 elements\n"
     ]
    }
   ],
   "source": [
    "# Круг радиуса R с центром в начале координат\n",
    "circle = gmsh.model.occ.addDisk(0, 0, 0, R, R)\n",
    "\n",
    "gmsh.model.occ.synchronize()\n",
    "gdim = 2\n",
    "gmsh.model.addPhysicalGroup(gdim, [circle], 1)\n",
    "gmsh.option.setNumber('Mesh.CharacteristicLengthMin', 0.05)\n",
    "gmsh.option.setNumber('Mesh.CharacteristicLengthMax', 0.05)\n",
    "gmsh.model.mesh.generate(gdim)\n",
    "\n",
    "# Сетка\n",
    "mesh, _, _ = io.gmshio.model_to_mesh(gmsh.model, MPI.COMM_WORLD, 0, gdim=gdim)\n",
    "# Координаты сетки\n",
    "x = ufl.SpatialCoordinate(mesh)"
   ]
  },
  {
   "cell_type": "markdown",
   "metadata": {},
   "source": [
    "3.2 Задание типа функциональных пространств (степень и тип)"
   ]
  },
  {
   "cell_type": "code",
   "execution_count": 4,
   "metadata": {},
   "outputs": [],
   "source": [
    "V = fem.functionspace(mesh, ('Lagrange', 1))\n",
    "\n",
    "left_boundary = fem.locate_dofs_geometrical(\n",
    "    V, lambda x: x[0] < 0 & np.isclose(np.sqrt(x[0]**2 + x[1]**2), R))"
   ]
  },
  {
   "cell_type": "markdown",
   "metadata": {},
   "source": [
    "4. Решить задачу, визуализировать решение, посчитать погрешность в узлах сетки."
   ]
  },
  {
   "cell_type": "markdown",
   "metadata": {},
   "source": [
    "4.1 Выбор тестовых функций\n",
    "\n",
    "Выберем следующие тестовые функции. В первую очередь выбирается $h(x,y)$. Например, как \n",
    "\n",
    "$$\n",
    "h(x,y) = \\sin(x) * \\cos(y).\n",
    "$$\n",
    "\n",
    "Если $h(x,y)$ является точным решением $u(x,y)$ поставленной задачи, то $g(x,y)$ и $f(x,y)$ вычисляются следующим способом:\n",
    "\n",
    "$$\n",
    "\\begin{align*}\n",
    "f & =-\\Delta u + {\\alpha}u = -\\Delta h + \\alpha h,\\\\ \n",
    "g & =-{du \\over dn} = -{dh \\over dn}.\n",
    "\\end{align*}\n",
    "$$\n",
    "\n",
    "Итого имеем:\n",
    "$$\n",
    "\\begin{align*}\n",
    "h(x,y) &= \\sin(x) * \\cos(y), \\\\ \n",
    "f(x,y) & = 2 * \\cos(y) * \\sin(x) + \\alpha * \\sin(x) * \\cos(y), \\\\\n",
    "g(x,y) & = - \\cos(x) * \\cos(y) + \\sin(x) * \\sin(y).\n",
    "\\end{align*}\n",
    "$$\n"
   ]
  },
  {
   "cell_type": "code",
   "execution_count": 5,
   "metadata": {},
   "outputs": [],
   "source": [
    "# x[0] ~ x, x[1] ~ y\n",
    "\n",
    "h = ufl.sin(x[0]) * ufl.cos(x[1])\n",
    "f = 2 * ufl.cos(x[1]) * ufl.sin(x[0]) + alpha * ufl.sin(x[0]) * ufl.cos(x[1])\n",
    "g = - ufl.cos(x[0]) * ufl.cos(x[1]) + ufl.sin(x[0]) * ufl.sin(x[1])"
   ]
  },
  {
   "cell_type": "markdown",
   "metadata": {},
   "source": [
    "4.2 Решение задачи"
   ]
  },
  {
   "cell_type": "code",
   "execution_count": 6,
   "metadata": {},
   "outputs": [],
   "source": [
    "# Задаем граничное условие Дирихле u = h(x,y) на \"левой\" границе круга\n",
    "u_lbc = fem.Function(V)\n",
    "u_lbc.interpolate(fem.Expression(h, V.element.interpolation_points()))\n",
    "lbc = fem.dirichletbc(u_lbc, left_boundary)"
   ]
  },
  {
   "cell_type": "code",
   "execution_count": 14,
   "metadata": {},
   "outputs": [],
   "source": [
    "# Задаем дискретную вариационную задачу\n",
    "u = ufl.TrialFunction(V)\n",
    "v = ufl.TestFunction(V)\n",
    "a = ufl.dot(ufl.grad(u), ufl.grad(v)) * ufl.dx + alpha * ufl.dot(u, v) * ufl.dx\n",
    "L = f * v * ufl.dx - g * v * ufl.ds\n",
    "problem = LinearProblem(a, L, bcs=[lbc], petsc_options={\"ksp_type\": \"preonly\", \"pc_type\": \"lu\"})"
   ]
  },
  {
   "cell_type": "code",
   "execution_count": 15,
   "metadata": {},
   "outputs": [],
   "source": [
    "# Получаем численное решение\n",
    "uh = problem.solve()"
   ]
  },
  {
   "cell_type": "markdown",
   "metadata": {},
   "source": [
    "4.3 Визуализация численного решения"
   ]
  },
  {
   "cell_type": "code",
   "execution_count": 16,
   "metadata": {},
   "outputs": [
    {
     "data": {
      "application/vnd.jupyter.widget-view+json": {
       "model_id": "af5f026ea05d431e9eab43dbb669271c",
       "version_major": 2,
       "version_minor": 0
      },
      "text/plain": [
       "Widget(value='<iframe id=\"pyvista-jupyter_trame__template_P_0x7119c15235e0_2\" src=\"http://95.131.149.198:1489/…"
      ]
     },
     "metadata": {},
     "output_type": "display_data"
    }
   ],
   "source": [
    "pyvista.set_jupyter_backend('client')\n",
    "\n",
    "pyvista_cells, cell_types, geometry = vtk_mesh(V)\n",
    "grid = pyvista.UnstructuredGrid(pyvista_cells, cell_types, geometry)\n",
    "grid.point_data['u'] = uh.x.array\n",
    "grid.set_active_scalars('u')\n",
    "\n",
    "plotter = pyvista.Plotter()\n",
    "plotter.add_text('uh', position='upper_edge', font_size=14, color='black')\n",
    "plotter.add_mesh(grid, show_edges=True)\n",
    "plotter.view_xy()\n",
    "\n",
    "plotter.show()"
   ]
  },
  {
   "cell_type": "markdown",
   "metadata": {},
   "source": [
    "4.4 Получаем точное решение $u(x,y)$ как интерполяцию $h(x,y)$ на сетке"
   ]
  },
  {
   "cell_type": "code",
   "execution_count": 17,
   "metadata": {
    "tags": []
   },
   "outputs": [],
   "source": [
    "u_sol = fem.Function(V)\n",
    "u_sol.interpolate(fem.Expression(h, V.element.interpolation_points()))"
   ]
  },
  {
   "cell_type": "code",
   "execution_count": 18,
   "metadata": {},
   "outputs": [
    {
     "data": {
      "application/vnd.jupyter.widget-view+json": {
       "model_id": "40ce804ea56b40dd8f40b101a4c2d294",
       "version_major": 2,
       "version_minor": 0
      },
      "text/plain": [
       "Widget(value='<iframe id=\"pyvista-jupyter_trame__template_P_0x7119c304be80_3\" src=\"http://95.131.149.198:1489/…"
      ]
     },
     "metadata": {},
     "output_type": "display_data"
    }
   ],
   "source": [
    "pyvista.set_jupyter_backend('client')\n",
    "\n",
    "pyvista_cells, cell_types, geometry = vtk_mesh(V)\n",
    "grid = pyvista.UnstructuredGrid(pyvista_cells, cell_types, geometry)\n",
    "grid.point_data['u'] = u_sol.x.array\n",
    "grid.set_active_scalars('u')\n",
    "\n",
    "plotter = pyvista.Plotter()\n",
    "plotter.add_text('u', position='upper_edge', font_size=14, color='black')\n",
    "plotter.add_mesh(grid, show_edges=True)\n",
    "plotter.view_xy()\n",
    "\n",
    "plotter.show()"
   ]
  },
  {
   "cell_type": "markdown",
   "metadata": {},
   "source": [
    "4.5 Вычисляем погрешности"
   ]
  },
  {
   "cell_type": "code",
   "execution_count": 24,
   "metadata": {},
   "outputs": [
    {
     "name": "stdout",
     "output_type": "stream",
     "text": [
      "Отклонение численного решения от точного по максимум-норме:  0.2191844309966279\n",
      "Отклонение численного решения от точного по L2-норме:  0.4953236695433375\n"
     ]
    }
   ],
   "source": [
    "# Ошибка по норме L2\n",
    "error_L2 = fem.assemble_scalar(fem.form((uh - u_sol)**2 * ufl.dx))\n",
    "error_L2 = np.sqrt(MPI.COMM_WORLD.allreduce(error_L2, op=MPI.SUM))\n",
    "\n",
    "# Ошибка по максимум-норме\n",
    "u_vertex_values = uh.x.array\n",
    "u_sol_vertex_values = u_sol.x.array\n",
    "error_max = np.max(np.abs(u_vertex_values - u_sol_vertex_values))\n",
    "error_max = MPI.COMM_WORLD.allreduce(error_max, op=MPI.MAX)\n",
    "\n",
    "print ('Отклонение численного решения от точного по максимум-норме: ', error_L2)\n",
    "print ('Отклонение численного решения от точного по L2-норме: ', error_max)"
   ]
  }
 ],
 "metadata": {
  "kernelspec": {
   "display_name": "Python 3 (ipykernel)",
   "language": "python",
   "name": "python3"
  },
  "language_info": {
   "codemirror_mode": {
    "name": "ipython",
    "version": 3
   },
   "file_extension": ".py",
   "mimetype": "text/x-python",
   "name": "python",
   "nbconvert_exporter": "python",
   "pygments_lexer": "ipython3",
   "version": "3.10.13"
  }
 },
 "nbformat": 4,
 "nbformat_minor": 4
}
